{
 "cells": [
  {
   "cell_type": "markdown",
   "metadata": {},
   "source": [
    "# Clustering Clones by Gene Expression\n",
    "\n",
    "I'm going to try to apply some basic machine learning algorithms to cluster cells into clonotypes based on observations of proteins and gene expression.   "
   ]
  },
  {
   "cell_type": "code",
   "execution_count": 1,
   "metadata": {
    "collapsed": false
   },
   "outputs": [],
   "source": [
    "#  Import packages.  Put plots \"inline\" in the notebook.  \n",
    "\n",
    "import pandas as pd  # Pandas for data analysis.\n",
    "import numpy as np  # For numerical computations.\n",
    "import matplotlib.pyplot as plt  # For plotting.\n",
    "from sklearn import mixture  # Import Gaussian mixture\n",
    "%matplotlib inline"
   ]
  },
  {
   "cell_type": "markdown",
   "metadata": {},
   "source": [
    "Now I read the data from a csv file \"clones.csv\".\n",
    "This is the same as the original data file, but transposed.\n",
    "I'm using Pandas, which is an R-like extension to Python.\n",
    "The file is read into df, a Pandas data frame."
   ]
  },
  {
   "cell_type": "code",
   "execution_count": 2,
   "metadata": {
    "collapsed": false
   },
   "outputs": [
    {
     "data": {
      "text/html": [
       "<div>\n",
       "<style scoped>\n",
       "    .dataframe tbody tr th:only-of-type {\n",
       "        vertical-align: middle;\n",
       "    }\n",
       "\n",
       "    .dataframe tbody tr th {\n",
       "        vertical-align: top;\n",
       "    }\n",
       "\n",
       "    .dataframe thead th {\n",
       "        text-align: right;\n",
       "    }\n",
       "</style>\n",
       "<table border=\"1\" class=\"dataframe\">\n",
       "  <thead>\n",
       "    <tr style=\"text-align: right;\">\n",
       "      <th></th>\n",
       "      <th>clonality</th>\n",
       "      <th>cell_number</th>\n",
       "      <th>norm_fsc</th>\n",
       "      <th>all_events_fsc_h_mean</th>\n",
       "      <th>norm_ssc</th>\n",
       "      <th>all_events_ssc_h_mean</th>\n",
       "      <th>cd57</th>\n",
       "      <th>fas</th>\n",
       "      <th>ptprc_cd45ra</th>\n",
       "      <th>cd4</th>\n",
       "      <th>...</th>\n",
       "      <th>ZWILCH</th>\n",
       "      <th>ZWINT</th>\n",
       "      <th>ZXDA</th>\n",
       "      <th>ZXDB</th>\n",
       "      <th>ZXDC</th>\n",
       "      <th>ZYG11A</th>\n",
       "      <th>ZYG11B</th>\n",
       "      <th>ZYX</th>\n",
       "      <th>ZZEF1</th>\n",
       "      <th>ZZZ3</th>\n",
       "    </tr>\n",
       "  </thead>\n",
       "  <tbody>\n",
       "    <tr>\n",
       "      <th>P1902_1293</th>\n",
       "      <td>A7</td>\n",
       "      <td>1</td>\n",
       "      <td>88028</td>\n",
       "      <td>57340</td>\n",
       "      <td>92364</td>\n",
       "      <td>50174</td>\n",
       "      <td>71</td>\n",
       "      <td>4569</td>\n",
       "      <td>1219</td>\n",
       "      <td>196</td>\n",
       "      <td>...</td>\n",
       "      <td>0.000000</td>\n",
       "      <td>0.000000</td>\n",
       "      <td>0.0</td>\n",
       "      <td>0.0</td>\n",
       "      <td>0.0</td>\n",
       "      <td>0.053019</td>\n",
       "      <td>0.412588</td>\n",
       "      <td>0.000000</td>\n",
       "      <td>0.000000</td>\n",
       "      <td>0.0</td>\n",
       "    </tr>\n",
       "    <tr>\n",
       "      <th>P1902_1294</th>\n",
       "      <td>A7</td>\n",
       "      <td>1</td>\n",
       "      <td>108113</td>\n",
       "      <td>61440</td>\n",
       "      <td>121799</td>\n",
       "      <td>58896</td>\n",
       "      <td>1902</td>\n",
       "      <td>3003</td>\n",
       "      <td>10794</td>\n",
       "      <td>145</td>\n",
       "      <td>...</td>\n",
       "      <td>0.001559</td>\n",
       "      <td>0.000000</td>\n",
       "      <td>0.0</td>\n",
       "      <td>0.0</td>\n",
       "      <td>0.0</td>\n",
       "      <td>0.077060</td>\n",
       "      <td>9.652112</td>\n",
       "      <td>0.000000</td>\n",
       "      <td>0.000000</td>\n",
       "      <td>0.0</td>\n",
       "    </tr>\n",
       "    <tr>\n",
       "      <th>P1902_1295</th>\n",
       "      <td>A7</td>\n",
       "      <td>1</td>\n",
       "      <td>101213</td>\n",
       "      <td>59653</td>\n",
       "      <td>98862</td>\n",
       "      <td>50874</td>\n",
       "      <td>2475</td>\n",
       "      <td>10889</td>\n",
       "      <td>5472</td>\n",
       "      <td>-244</td>\n",
       "      <td>...</td>\n",
       "      <td>33.992014</td>\n",
       "      <td>433.919579</td>\n",
       "      <td>0.0</td>\n",
       "      <td>0.0</td>\n",
       "      <td>0.0</td>\n",
       "      <td>0.072747</td>\n",
       "      <td>1.050288</td>\n",
       "      <td>3.292849</td>\n",
       "      <td>24.351262</td>\n",
       "      <td>0.0</td>\n",
       "    </tr>\n",
       "    <tr>\n",
       "      <th>P1902_1296</th>\n",
       "      <td>A7</td>\n",
       "      <td>1</td>\n",
       "      <td>99072</td>\n",
       "      <td>59558</td>\n",
       "      <td>102286</td>\n",
       "      <td>53942</td>\n",
       "      <td>78</td>\n",
       "      <td>6617</td>\n",
       "      <td>1678</td>\n",
       "      <td>-96</td>\n",
       "      <td>...</td>\n",
       "      <td>0.000000</td>\n",
       "      <td>1.266188</td>\n",
       "      <td>0.0</td>\n",
       "      <td>0.0</td>\n",
       "      <td>0.0</td>\n",
       "      <td>0.579323</td>\n",
       "      <td>0.174867</td>\n",
       "      <td>0.000000</td>\n",
       "      <td>0.000000</td>\n",
       "      <td>0.0</td>\n",
       "    </tr>\n",
       "    <tr>\n",
       "      <th>P1902_1301</th>\n",
       "      <td>A7</td>\n",
       "      <td>1</td>\n",
       "      <td>84219</td>\n",
       "      <td>54797</td>\n",
       "      <td>68003</td>\n",
       "      <td>38394</td>\n",
       "      <td>589</td>\n",
       "      <td>4039</td>\n",
       "      <td>9758</td>\n",
       "      <td>18</td>\n",
       "      <td>...</td>\n",
       "      <td>5.661078</td>\n",
       "      <td>0.000000</td>\n",
       "      <td>0.0</td>\n",
       "      <td>0.0</td>\n",
       "      <td>0.0</td>\n",
       "      <td>0.674957</td>\n",
       "      <td>0.044820</td>\n",
       "      <td>0.000000</td>\n",
       "      <td>0.000000</td>\n",
       "      <td>0.0</td>\n",
       "    </tr>\n",
       "  </tbody>\n",
       "</table>\n",
       "<p>5 rows × 19902 columns</p>\n",
       "</div>"
      ],
      "text/plain": [
       "           clonality  cell_number  norm_fsc  all_events_fsc_h_mean  norm_ssc  \\\n",
       "P1902_1293        A7            1     88028                  57340     92364   \n",
       "P1902_1294        A7            1    108113                  61440    121799   \n",
       "P1902_1295        A7            1    101213                  59653     98862   \n",
       "P1902_1296        A7            1     99072                  59558    102286   \n",
       "P1902_1301        A7            1     84219                  54797     68003   \n",
       "\n",
       "            all_events_ssc_h_mean  cd57    fas  ptprc_cd45ra  cd4  ...   \\\n",
       "P1902_1293                  50174    71   4569          1219  196  ...    \n",
       "P1902_1294                  58896  1902   3003         10794  145  ...    \n",
       "P1902_1295                  50874  2475  10889          5472 -244  ...    \n",
       "P1902_1296                  53942    78   6617          1678  -96  ...    \n",
       "P1902_1301                  38394   589   4039          9758   18  ...    \n",
       "\n",
       "               ZWILCH       ZWINT  ZXDA  ZXDB  ZXDC    ZYG11A    ZYG11B  \\\n",
       "P1902_1293   0.000000    0.000000   0.0   0.0   0.0  0.053019  0.412588   \n",
       "P1902_1294   0.001559    0.000000   0.0   0.0   0.0  0.077060  9.652112   \n",
       "P1902_1295  33.992014  433.919579   0.0   0.0   0.0  0.072747  1.050288   \n",
       "P1902_1296   0.000000    1.266188   0.0   0.0   0.0  0.579323  0.174867   \n",
       "P1902_1301   5.661078    0.000000   0.0   0.0   0.0  0.674957  0.044820   \n",
       "\n",
       "                 ZYX      ZZEF1  ZZZ3  \n",
       "P1902_1293  0.000000   0.000000   0.0  \n",
       "P1902_1294  0.000000   0.000000   0.0  \n",
       "P1902_1295  3.292849  24.351262   0.0  \n",
       "P1902_1296  0.000000   0.000000   0.0  \n",
       "P1902_1301  0.000000   0.000000   0.0  \n",
       "\n",
       "[5 rows x 19902 columns]"
      ]
     },
     "execution_count": 2,
     "metadata": {},
     "output_type": "execute_result"
    }
   ],
   "source": [
    "df = pd.read_csv('clones.csv', sep=',', \n",
    "                 index_col=0, header=0, low_memory=False)\n",
    "\n",
    "df[:5]  # Let's check out the first five rows."
   ]
  },
  {
   "cell_type": "markdown",
   "metadata": {},
   "source": [
    "I like to summarize things with some verbose commands."
   ]
  },
  {
   "cell_type": "code",
   "execution_count": 4,
   "metadata": {
    "collapsed": false
   },
   "outputs": [
    {
     "name": "stdout",
     "output_type": "stream",
     "text": [
      "345 cells are measured.\n",
      "9 proteins are measured: ['cd57', 'fas', 'ptprc_cd45ra', 'cd4', 'il7ra', 'dextramer', 'cd3e', 'cd8a', 'ccr7']\n",
      "19869 genes are measured, from A1BG to ZZZ3 .\n"
     ]
    }
   ],
   "source": [
    "print len(df), \"cells are measured.\"\n",
    "proteins = list(df.columns[6:15]) # The names of the proteins\n",
    "# Proteins correspond to columns 6-14 of the data frame.\n",
    "print len(proteins), \"proteins are measured:\", proteins\n",
    "genes = list(df.columns[33:])  # The names of the genes.  \n",
    "# Genes corresponds to columns 33 onwards in the data frame.\n",
    "print len(genes), \"genes are measured, from\",genes[0],\"to\",genes[-1],\".\""
   ]
  },
  {
   "cell_type": "markdown",
   "metadata": {},
   "source": [
    "##  Gaussian mixture model:  clustering by protein expression\n",
    "\n",
    "Now that the data is loaded, I'm going to fit the protein data to a Gaussian mixture model.  This isn't the best way if the data is not Gaussian, but it's a starting point.  We'll see how it turns out for classification tasks.\n",
    "\n",
    "First, we plot the distribution of protein measurements in histograms, just to see whether some are close to Gaussian."
   ]
  },
  {
   "cell_type": "code",
   "execution_count": 5,
   "metadata": {
    "collapsed": false
   },
   "outputs": [
    {
     "data": {
      "text/plain": [
       "array([[<matplotlib.axes._subplots.AxesSubplot object at 0x1a14ba4450>,\n",
       "        <matplotlib.axes._subplots.AxesSubplot object at 0x1a14de8e50>,\n",
       "        <matplotlib.axes._subplots.AxesSubplot object at 0x1a14d35e90>],\n",
       "       [<matplotlib.axes._subplots.AxesSubplot object at 0x1a14ca19d0>,\n",
       "        <matplotlib.axes._subplots.AxesSubplot object at 0x10acbeb90>,\n",
       "        <matplotlib.axes._subplots.AxesSubplot object at 0x1a14ceee90>],\n",
       "       [<matplotlib.axes._subplots.AxesSubplot object at 0x10aceaa90>,\n",
       "        <matplotlib.axes._subplots.AxesSubplot object at 0x1a141b1ed0>,\n",
       "        <matplotlib.axes._subplots.AxesSubplot object at 0x1a1425bc90>]], dtype=object)"
      ]
     },
     "execution_count": 5,
     "metadata": {},
     "output_type": "execute_result"
    },
    {
     "data": {
      "text/plain": [
       "<matplotlib.figure.Figure at 0x1a14607e50>"
      ]
     },
     "metadata": {},
     "output_type": "display_data"
    },
    {
     "data": {
      "image/png": "[encoded data removed]",
      "text/plain": [
       "<matplotlib.figure.Figure at 0x1a13d2a1d0>"
      ]
     },
     "metadata": {},
     "output_type": "display_data"
    }
   ],
   "source": [
    "plt.figure();\n",
    "df.hist(column=proteins, alpha=0.7, figsize=(10,10))"
   ]
  },
  {
   "cell_type": "markdown",
   "metadata": {},
   "source": [
    "Based on above graphs, the following proteins might be most useful for classification (without log-scaling) They look most Gaussian... but I'm just eyeballing things here."
   ]
  },
  {
   "cell_type": "code",
   "execution_count": 6,
   "metadata": {
    "collapsed": false
   },
   "outputs": [],
   "source": [
    "proteins_useful = ['cd3e', 'cd8a', 'fas', 'cd4', 'il7ra']"
   ]
  },
  {
   "cell_type": "markdown",
   "metadata": {},
   "source": [
    "Now we make a list of the clonotypes, and a table of their populations."
   ]
  },
  {
   "cell_type": "code",
   "execution_count": 9,
   "metadata": {
    "collapsed": false
   },
   "outputs": [
    {
     "name": "stdout",
     "output_type": "stream",
     "text": [
      "Clone Population\n",
      "F3    46\n",
      "H2    45\n",
      "E4    44\n",
      "A7    43\n",
      "B4    42\n",
      "H9    33\n",
      "G8    31\n",
      "G6    31\n",
      "A8    30\n",
      "Name: clonality, dtype: int64\n",
      "-------------------\n",
      "Total population: 345\n"
     ]
    }
   ],
   "source": [
    "clones = df['clonality'].unique() \n",
    "print 'Clone Population'\n",
    "print df['clonality'].value_counts()\n",
    "print '-------------------'\n",
    "print 'Total population:', len(df)"
   ]
  },
  {
   "cell_type": "markdown",
   "metadata": {},
   "source": [
    "We can analyze whether protein measurements vary by clonotype.\n",
    "Here we produce histograms of a single protein across all clonotypes."
   ]
  },
  {
   "cell_type": "code",
   "execution_count": 10,
   "metadata": {
    "collapsed": false
   },
   "outputs": [
    {
     "data": {
      "text/plain": [
       "array([[<matplotlib.axes._subplots.AxesSubplot object at 0x1a1487dc10>,\n",
       "        <matplotlib.axes._subplots.AxesSubplot object at 0x1a14a0f990>,\n",
       "        <matplotlib.axes._subplots.AxesSubplot object at 0x1a14a66f10>],\n",
       "       [<matplotlib.axes._subplots.AxesSubplot object at 0x1a1557c290>,\n",
       "        <matplotlib.axes._subplots.AxesSubplot object at 0x1a1558d950>,\n",
       "        <matplotlib.axes._subplots.AxesSubplot object at 0x1a1565ec10>],\n",
       "       [<matplotlib.axes._subplots.AxesSubplot object at 0x1a156deb10>,\n",
       "        <matplotlib.axes._subplots.AxesSubplot object at 0x1a15751510>,\n",
       "        <matplotlib.axes._subplots.AxesSubplot object at 0x1a157d9410>]], dtype=object)"
      ]
     },
     "execution_count": 10,
     "metadata": {},
     "output_type": "execute_result"
    },
    {
     "data": {
      "image/png": "[encoded data removed]",
      "text/plain": [
       "<matplotlib.figure.Figure at 0x1a148dedd0>"
      ]
     },
     "metadata": {},
     "output_type": "display_data"
    }
   ],
   "source": [
    "df.hist(column='cd4', by='clonality', figsize = [10,10], \n",
    "        sharex = True, sharey = False, alpha=0.7)"
   ]
  },
  {
   "cell_type": "markdown",
   "metadata": {},
   "source": [
    "## Training and testing\n",
    "\n",
    "Now we start the modeling for real.  We begin by putting all the protein data into a \"dictionary\" data structure.  The keys of the dictionary are the clonotypes, and the values are arrays of arrays giving the observation of each (sorta-Gaussian) protein for each cell of that data type."
   ]
  },
  {
   "cell_type": "code",
   "execution_count": 14,
   "metadata": {
    "collapsed": false
   },
   "outputs": [],
   "source": [
    "protein_expression = {}\n",
    "for c in clones:\n",
    "    protein_expression[c] = np.array(df[df['clonality'] == c].loc[:,proteins_useful])\n",
    "\n",
    "# Uncomment the following line, to see the protein expressions for all\n",
    "# cells of clonotype A7.\n",
    "# print protein_expression['A7']"
   ]
  },
  {
   "cell_type": "code",
   "execution_count": 15,
   "metadata": {
    "collapsed": true
   },
   "outputs": [],
   "source": [
    "# The following two functions will be useful.\n",
    "\n",
    "def chop(A):\n",
    "    '''\n",
    "    Chops a list A into two random pieces,\n",
    "    of about 75% and 25%.  \n",
    "    Returns the two pieces, meant for training/testing sets.\n",
    "    '''\n",
    "    mask = np.random.choice([True, False], len(A), p=[0.75, 0.25]) # Use 75% training data, 25% testing data.\n",
    "    notmask = [not b for b in mask]\n",
    "    return A[mask], A[notmask]\n",
    "\n",
    "def count_errs(A):\n",
    "    '''\n",
    "    Counts the number of elements of A excluding the \n",
    "    most frequently occurring one.  For example,\n",
    "    count_errs([1,1,1,0,1,2,3]) would return 3 (viewing 0,2,3 as errors).\n",
    "    '''\n",
    "    AU = np.unique(A)\n",
    "    corr = max([A.count(j) for j in AU])\n",
    "    return len(A) - corr"
   ]
  },
  {
   "cell_type": "markdown",
   "metadata": {},
   "source": [
    "Now we set up training and testing data for protein expression.  Cells of each clonotype are partitioned randomly into training-cells and testing-cells.  The model will be trained on training cells, and validated on testing cells.  This is standard machine-learning stuff.  \n",
    "\n",
    "The result of training is a Gaussian mixture model that clusters the cells based on protein data alone.  The number of clusters will be given though... there are other techniques (e.g. BIC) one can use to have the computer guess the correct number of clusters.  \n",
    "\n",
    "For validation, we'll see if the testing cells are clustered according to clonotype, even though the training did not involve clonotype at all!"
   ]
  },
  {
   "cell_type": "code",
   "execution_count": 16,
   "metadata": {
    "collapsed": false
   },
   "outputs": [],
   "source": [
    "P_train = {}\n",
    "P_pred = {}\n",
    "for c in clones:\n",
    "    P_train[c], P_pred[c] = chop(protein_expression[c])"
   ]
  },
  {
   "cell_type": "code",
   "execution_count": 18,
   "metadata": {
    "collapsed": false,
    "scrolled": true
   },
   "outputs": [
    {
     "name": "stdout",
     "output_type": "stream",
     "text": [
      "Training set has 86 individuals.\n",
      "GaussianMixture(covariance_type='spherical', init_params='kmeans',\n",
      "        max_iter=100, means_init=None, n_components=3, n_init=1,\n",
      "        precisions_init=None, random_state=None, reg_covar=1e-06,\n",
      "        tol=0.001, verbose=0, verbose_interval=10, warm_start=False,\n",
      "        weights_init=None)\n",
      "11 errors out of 34 tests.\n",
      "67.6470588235% accuracy.\n",
      "[0 0 0 0 0 0 2 2 1 0 0]\n",
      "[1 1 1 1 2 2 1 1 1 0 1 2 1 0 1]\n",
      "[2 2 1 2 0 2 0 2]\n"
     ]
    }
   ],
   "source": [
    "test_clones = ['A7','F3', 'G6']  # Let's try to cluster data of these clonotypes.  \n",
    "#  ------------------------------------------------\n",
    "#  Change only the above line to see what happens!\n",
    "\n",
    "# The next line sets up training data.  \n",
    "# The computer doesn't know the clonotypes in the training data! \n",
    "# The computer just knows the protein data for training.\n",
    "# The computer *will* be given knowledge of the number of clonotypes.\n",
    "X_train = np.vstack([P_train[c] for c in test_clones]) \n",
    "print 'Training set has', len(X_train), 'individuals.'\n",
    "\n",
    "# Now we use Scikit-Learn to fit a Gaussian Mixture Model \n",
    "# with the given number of clonotypes.\n",
    "# The data gets clustered by clf.fit.\n",
    "# Just using spherical Gaussians for now.  \n",
    "# Might be better with ellipses, i.e., full covariance.\n",
    "\n",
    "clf = mixture.GaussianMixture(n_components=len(test_clones), \n",
    "                              covariance_type='spherical')\n",
    "print clf.fit(X_train)\n",
    "\n",
    "# Now we use the model to predict the cluster for the cells in the test group.\n",
    "# We track the number of errors and accuracy.\n",
    "\n",
    "err_count = sum([count_errs(list(clf.predict(P_pred[c]))) for c in test_clones])\n",
    "tot_count = sum([len(P_pred[c]) for c in test_clones])\n",
    "acc = 100 - 100*float(err_count)/tot_count\n",
    "print err_count, 'errors out of', tot_count,'tests.'\n",
    "print str(acc)+'% accuracy.'\n",
    "\n",
    "# Here's the raw output of the validation.  \n",
    "# It should be a series of arrays, with numbers denoting the assigned cluster.\n",
    "# With 100% accuracy, each array would have a single number repeated.\n",
    "# This would mean that cells from each clonotype \n",
    "# were assigned to the same cluster.\n",
    "\n",
    "for c in test_clones:\n",
    "    print clf.predict(P_pred[c])"
   ]
  },
  {
   "cell_type": "markdown",
   "metadata": {},
   "source": [
    "Now let's do the same as above, but with less running commentary.  We'll track the accuracy of the clustering for every *pair* of clonotypes.  E.g., can protein measurements distinguish clonotype A7 from A8?  How well?  How about A7 from H9?  We'll give the average (among all pairs) accuracy at the end."
   ]
  },
  {
   "cell_type": "code",
   "execution_count": 34,
   "metadata": {
    "collapsed": false
   },
   "outputs": [
    {
     "name": "stdout",
     "output_type": "stream",
     "text": [
      "-------------------------\n",
      "Average accuracy is 76.5080555556%.\n"
     ]
    },
    {
     "data": {
      "text/html": [
       "<div>\n",
       "<style scoped>\n",
       "    .dataframe tbody tr th:only-of-type {\n",
       "        vertical-align: middle;\n",
       "    }\n",
       "\n",
       "    .dataframe tbody tr th {\n",
       "        vertical-align: top;\n",
       "    }\n",
       "\n",
       "    .dataframe thead th {\n",
       "        text-align: right;\n",
       "    }\n",
       "</style>\n",
       "<table border=\"1\" class=\"dataframe\">\n",
       "  <thead>\n",
       "    <tr style=\"text-align: right;\">\n",
       "      <th></th>\n",
       "      <th>A7</th>\n",
       "      <th>A8</th>\n",
       "      <th>B4</th>\n",
       "      <th>E4</th>\n",
       "      <th>F3</th>\n",
       "      <th>G6</th>\n",
       "      <th>G8</th>\n",
       "      <th>H2</th>\n",
       "      <th>H9</th>\n",
       "    </tr>\n",
       "  </thead>\n",
       "  <tbody>\n",
       "    <tr>\n",
       "      <th>A7</th>\n",
       "      <td>NaN</td>\n",
       "      <td>100.00</td>\n",
       "      <td>70.00</td>\n",
       "      <td>65.00</td>\n",
       "      <td>84.62</td>\n",
       "      <td>73.68</td>\n",
       "      <td>75.00</td>\n",
       "      <td>72.00</td>\n",
       "      <td>87.50</td>\n",
       "    </tr>\n",
       "    <tr>\n",
       "      <th>A8</th>\n",
       "      <td>100.00</td>\n",
       "      <td>NaN</td>\n",
       "      <td>100.00</td>\n",
       "      <td>62.50</td>\n",
       "      <td>90.91</td>\n",
       "      <td>66.67</td>\n",
       "      <td>91.67</td>\n",
       "      <td>85.71</td>\n",
       "      <td>100.00</td>\n",
       "    </tr>\n",
       "    <tr>\n",
       "      <th>B4</th>\n",
       "      <td>70.00</td>\n",
       "      <td>100.00</td>\n",
       "      <td>NaN</td>\n",
       "      <td>72.22</td>\n",
       "      <td>83.33</td>\n",
       "      <td>70.59</td>\n",
       "      <td>78.57</td>\n",
       "      <td>73.91</td>\n",
       "      <td>71.43</td>\n",
       "    </tr>\n",
       "    <tr>\n",
       "      <th>E4</th>\n",
       "      <td>65.00</td>\n",
       "      <td>62.50</td>\n",
       "      <td>72.22</td>\n",
       "      <td>NaN</td>\n",
       "      <td>62.50</td>\n",
       "      <td>58.82</td>\n",
       "      <td>71.43</td>\n",
       "      <td>82.61</td>\n",
       "      <td>78.57</td>\n",
       "    </tr>\n",
       "    <tr>\n",
       "      <th>F3</th>\n",
       "      <td>84.62</td>\n",
       "      <td>90.91</td>\n",
       "      <td>83.33</td>\n",
       "      <td>62.50</td>\n",
       "      <td>NaN</td>\n",
       "      <td>65.22</td>\n",
       "      <td>90.00</td>\n",
       "      <td>72.41</td>\n",
       "      <td>65.00</td>\n",
       "    </tr>\n",
       "    <tr>\n",
       "      <th>G6</th>\n",
       "      <td>73.68</td>\n",
       "      <td>66.67</td>\n",
       "      <td>70.59</td>\n",
       "      <td>58.82</td>\n",
       "      <td>65.22</td>\n",
       "      <td>NaN</td>\n",
       "      <td>76.92</td>\n",
       "      <td>63.64</td>\n",
       "      <td>69.23</td>\n",
       "    </tr>\n",
       "    <tr>\n",
       "      <th>G8</th>\n",
       "      <td>75.00</td>\n",
       "      <td>91.67</td>\n",
       "      <td>78.57</td>\n",
       "      <td>71.43</td>\n",
       "      <td>90.00</td>\n",
       "      <td>76.92</td>\n",
       "      <td>NaN</td>\n",
       "      <td>68.42</td>\n",
       "      <td>70.00</td>\n",
       "    </tr>\n",
       "    <tr>\n",
       "      <th>H2</th>\n",
       "      <td>72.00</td>\n",
       "      <td>85.71</td>\n",
       "      <td>73.91</td>\n",
       "      <td>82.61</td>\n",
       "      <td>72.41</td>\n",
       "      <td>63.64</td>\n",
       "      <td>68.42</td>\n",
       "      <td>NaN</td>\n",
       "      <td>84.21</td>\n",
       "    </tr>\n",
       "    <tr>\n",
       "      <th>H9</th>\n",
       "      <td>87.50</td>\n",
       "      <td>100.00</td>\n",
       "      <td>71.43</td>\n",
       "      <td>78.57</td>\n",
       "      <td>65.00</td>\n",
       "      <td>69.23</td>\n",
       "      <td>70.00</td>\n",
       "      <td>84.21</td>\n",
       "      <td>NaN</td>\n",
       "    </tr>\n",
       "  </tbody>\n",
       "</table>\n",
       "</div>"
      ],
      "text/plain": [
       "        A7      A8      B4     E4     F3     G6     G8     H2      H9\n",
       "A7     NaN  100.00   70.00  65.00  84.62  73.68  75.00  72.00   87.50\n",
       "A8  100.00     NaN  100.00  62.50  90.91  66.67  91.67  85.71  100.00\n",
       "B4   70.00  100.00     NaN  72.22  83.33  70.59  78.57  73.91   71.43\n",
       "E4   65.00   62.50   72.22    NaN  62.50  58.82  71.43  82.61   78.57\n",
       "F3   84.62   90.91   83.33  62.50    NaN  65.22  90.00  72.41   65.00\n",
       "G6   73.68   66.67   70.59  58.82  65.22    NaN  76.92  63.64   69.23\n",
       "G8   75.00   91.67   78.57  71.43  90.00  76.92    NaN  68.42   70.00\n",
       "H2   72.00   85.71   73.91  82.61  72.41  63.64  68.42    NaN   84.21\n",
       "H9   87.50  100.00   71.43  78.57  65.00  69.23  70.00  84.21     NaN"
      ]
     },
     "execution_count": 34,
     "metadata": {},
     "output_type": "execute_result"
    }
   ],
   "source": [
    "S = 0\n",
    "n = 0\n",
    "data = np.zeros((len(clones), len(clones)))\n",
    "\n",
    "for c1 in range(len(clones)-1):\n",
    "    for c2 in range(c1 + 1, len(clones)):\n",
    "        test_clones = [clones[c1], clones[c2]]\n",
    "        X_train = np.vstack([P_train[c] for c in test_clones])\n",
    "        clf = mixture.GaussianMixture(n_components=len(test_clones), \n",
    "                                      covariance_type='spherical')\n",
    "        clf.fit(X_train)\n",
    "        err_count = sum([count_errs(list(clf.predict(P_pred[c]))) \n",
    "                         for c in test_clones])\n",
    "        tot_count = sum([len(P_pred[c]) for c in test_clones])\n",
    "        acc_count = np.round(100 - 100*float(err_count)/tot_count, decimals=2)\n",
    "        data[c1][c2] = acc_count\n",
    "        data[c2][c1] = acc_count\n",
    "        S += acc_count\n",
    "        n += 1\n",
    "\n",
    "for d in range(len(clones)):\n",
    "    data[d][d] = None\n",
    "    \n",
    "clone_vs_clone = pd.DataFrame(data, columns=clones, index=clones)\n",
    "ave_acc = float(S) / n\n",
    "print '-------------------------'\n",
    "print 'Average accuracy is '+ str(ave_acc)+'%.'\n",
    "clone_vs_clone"
   ]
  },
  {
   "cell_type": "markdown",
   "metadata": {},
   "source": [
    "# Analyzing gene expression\n",
    "\n",
    "Now we start to analyze the gene expression data instead of the protein data.  This is much more interesting.  There are lots of genes -- it is a *high-dimensional* sparse data set.  We'll look at some gene data below.\n",
    "\n",
    "Our first few functions are meant to carry out a basic clone-by-clone analysis of gene expression, to get a feel for whether there are differences in gene expression among clonotypes."
   ]
  },
  {
   "cell_type": "code",
   "execution_count": 40,
   "metadata": {
    "collapsed": false
   },
   "outputs": [],
   "source": [
    "def analyze(gene):\n",
    "    gene_exp = df[gene]\n",
    "    print 'Analysis of gene expression for',gene\n",
    "    print '---------------------------------------'\n",
    "    print 'Out of',len(gene_exp),'individuals, there are ',gene_exp.value_counts()[0],'zeros.'  \n",
    "    genelog = gene_exp[gene_exp > 0].copy()\n",
    "    genelog = genelog.apply(np.log)\n",
    "    print 'On a log-scale, the nonzero gene expressions are below.'\n",
    "    plt.figure()\n",
    "    genelog.hist()\n",
    "    plt.show()\n",
    "\n",
    "def clonalyze(gene):\n",
    "    analyze(gene)\n",
    "    print 'Clone-by-clone Analysis of gene expression for',gene\n",
    "    print '====================================================='\n",
    "    for c in clones:\n",
    "        gene_exp = df[df['clonality'] == c][gene]\n",
    "        print 'Analysis of expression for gene',gene,'among clonotype',c\n",
    "        print '--------------------------------------------'\n",
    "        nozeros = len(gene_exp[gene_exp == 0])\n",
    "        N = len(gene_exp)\n",
    "        print 'Out of',N,'individuals, there are ',nozeros,'zeros.'\n",
    "        if nozeros < N:\n",
    "            genelog = gene_exp[gene_exp > 0].copy()\n",
    "            genelog = genelog.apply(np.log)\n",
    "            print 'On a log-scale, the nonzero gene expressions are below.'\n",
    "            plt.figure()\n",
    "            genelog.hist()\n",
    "            plt.show()\n",
    "        else:\n",
    "            print 'Gene not expressed!'\n",
    "            print '-------------------'\n",
    "    "
   ]
  },
  {
   "cell_type": "code",
   "execution_count": 41,
   "metadata": {
    "collapsed": false
   },
   "outputs": [
    {
     "name": "stdout",
     "output_type": "stream",
     "text": [
      "Analysis of gene expression for TRBV9\n",
      "---------------------------------------\n",
      "Out of 345 individuals, there are  218 zeros.\n",
      "On a log-scale, the nonzero gene expressions are below.\n"
     ]
    },
    {
     "data": {
      "image/png": "[encoded data removed]",
      "text/plain": [
       "<matplotlib.figure.Figure at 0x1a23d62390>"
      ]
     },
     "metadata": {},
     "output_type": "display_data"
    },
    {
     "name": "stdout",
     "output_type": "stream",
     "text": [
      "Clone-by-clone Analysis of gene expression for TRBV9\n",
      "=====================================================\n",
      "Analysis of expression for gene TRBV9 among clonotype A7\n",
      "--------------------------------------------\n",
      "Out of 43 individuals, there are  43 zeros.\n",
      "Gene not expressed!\n",
      "-------------------\n",
      "Analysis of expression for gene TRBV9 among clonotype A8\n",
      "--------------------------------------------\n",
      "Out of 30 individuals, there are  30 zeros.\n",
      "Gene not expressed!\n",
      "-------------------\n",
      "Analysis of expression for gene TRBV9 among clonotype B4\n",
      "--------------------------------------------\n",
      "Out of 42 individuals, there are  39 zeros.\n",
      "On a log-scale, the nonzero gene expressions are below.\n"
     ]
    },
    {
     "data": {
      "image/png": "[encoded data removed]",
      "text/plain": [
       "<matplotlib.figure.Figure at 0x1a277d17d0>"
      ]
     },
     "metadata": {},
     "output_type": "display_data"
    },
    {
     "name": "stdout",
     "output_type": "stream",
     "text": [
      "Analysis of expression for gene TRBV9 among clonotype E4\n",
      "--------------------------------------------\n",
      "Out of 44 individuals, there are  44 zeros.\n",
      "Gene not expressed!\n",
      "-------------------\n",
      "Analysis of expression for gene TRBV9 among clonotype F3\n",
      "--------------------------------------------\n",
      "Out of 46 individuals, there are  0 zeros.\n",
      "On a log-scale, the nonzero gene expressions are below.\n"
     ]
    },
    {
     "data": {
      "image/png": "[encoded data removed]",
      "text/plain": [
       "<matplotlib.figure.Figure at 0x1a23d46750>"
      ]
     },
     "metadata": {},
     "output_type": "display_data"
    },
    {
     "name": "stdout",
     "output_type": "stream",
     "text": [
      "Analysis of expression for gene TRBV9 among clonotype G6\n",
      "--------------------------------------------\n",
      "Out of 31 individuals, there are  31 zeros.\n",
      "Gene not expressed!\n",
      "-------------------\n",
      "Analysis of expression for gene TRBV9 among clonotype G8\n",
      "--------------------------------------------\n",
      "Out of 31 individuals, there are  31 zeros.\n",
      "Gene not expressed!\n",
      "-------------------\n",
      "Analysis of expression for gene TRBV9 among clonotype H2\n",
      "--------------------------------------------\n",
      "Out of 45 individuals, there are  0 zeros.\n",
      "On a log-scale, the nonzero gene expressions are below.\n"
     ]
    },
    {
     "data": {
      "image/png": "[encoded data removed]",
      "text/plain": [
       "<matplotlib.figure.Figure at 0x1a23d3ba90>"
      ]
     },
     "metadata": {},
     "output_type": "display_data"
    },
    {
     "name": "stdout",
     "output_type": "stream",
     "text": [
      "Analysis of expression for gene TRBV9 among clonotype H9\n",
      "--------------------------------------------\n",
      "Out of 33 individuals, there are  0 zeros.\n",
      "On a log-scale, the nonzero gene expressions are below.\n"
     ]
    },
    {
     "data": {
      "image/png": "[encoded data removed]",
      "text/plain": [
       "<matplotlib.figure.Figure at 0x1a148f7650>"
      ]
     },
     "metadata": {},
     "output_type": "display_data"
    }
   ],
   "source": [
    "clonalyze('TRBV9') # carry out clone-by-clone analysis of this gene.  \n",
    "#  This looks like an on/off gene, I guess."
   ]
  },
  {
   "cell_type": "markdown",
   "metadata": {},
   "source": [
    "## Analysis via latent semantic indexing with GENSIM.\n",
    "\n",
    "Now I'm going to try and use gensim to carry out some dimensional reduction via latent semantic analysis."
   ]
  },
  {
   "cell_type": "code",
   "execution_count": 42,
   "metadata": {
    "collapsed": true
   },
   "outputs": [],
   "source": [
    "# Load gensim packages.\n",
    "from gensim import models, corpora, similarities\n",
    "from gensim.test.utils import get_tmpfile"
   ]
  },
  {
   "cell_type": "code",
   "execution_count": 44,
   "metadata": {
    "collapsed": false
   },
   "outputs": [
    {
     "name": "stdout",
     "output_type": "stream",
     "text": [
      "The first five cell IDs are ['P1902_1293', 'P1902_1294', 'P1902_1295', 'P1902_1296', 'P1902_1301']\n",
      "345 cells are present.\n"
     ]
    }
   ],
   "source": [
    "# I'll want a list of cell IDs.\n",
    "cells = list(df.index)\n",
    "print \"The first five cell IDs are\",cells[:5]\n",
    "print len(cells),\"cells are present.\" # The number of cells."
   ]
  },
  {
   "cell_type": "code",
   "execution_count": 45,
   "metadata": {
    "collapsed": false
   },
   "outputs": [
    {
     "name": "stdout",
     "output_type": "stream",
     "text": [
      "(345, 19869)\n"
     ]
    }
   ],
   "source": [
    "# Put the gene-expression data in its own data frame.\n",
    "genedf = df[genes].copy()\n",
    "print genedf.shape # Number of cells, Number of genes."
   ]
  },
  {
   "cell_type": "code",
   "execution_count": 46,
   "metadata": {
    "collapsed": false
   },
   "outputs": [
    {
     "name": "stdout",
     "output_type": "stream",
     "text": [
      "Dictionary(19869 unique tokens: [u'RNF14', u'HIF3A', u'RNF17', u'RNF10', u'RNF11']...)\n"
     ]
    }
   ],
   "source": [
    "# Put the gene-names into a gensim dictionary.\n",
    "dictionary = corpora.Dictionary([[gene] for gene in genes])\n",
    "print dictionary"
   ]
  },
  {
   "cell_type": "code",
   "execution_count": 47,
   "metadata": {
    "collapsed": false,
    "scrolled": true
   },
   "outputs": [],
   "source": [
    "# Transform gene expression data on log-scale.\n",
    "# Cut off all gene-expression less than 1.\n",
    "# Thus the log-scaled gene-expression is 0 or greater.\n",
    "genedf[genedf < 1] = 1\n",
    "genedf = genedf.transform(np.log)"
   ]
  },
  {
   "cell_type": "code",
   "execution_count": 49,
   "metadata": {
    "collapsed": false
   },
   "outputs": [
    {
     "name": "stdout",
     "output_type": "stream",
     "text": [
      "12587 relevant genes found among 19869 genes.\n"
     ]
    }
   ],
   "source": [
    "# We omit genes that are very rarely expressed.\n",
    "\n",
    "genes_relevant = []\n",
    "for gene in genes:\n",
    "    if genedf[gene].mean() > 0.05:\n",
    "        genes_relevant.append(gene)\n",
    "\n",
    "print len(genes_relevant),\"relevant genes found among\",len(genes),\"genes.\"\n",
    "genedf = genedf[genes_relevant]  # Throw away all but the relevant genes."
   ]
  },
  {
   "cell_type": "markdown",
   "metadata": {},
   "source": [
    "Now we use the data frame to create a bag-of-words style corpus.  The result is an array of arrays.  Each entry is a list of the nonzero (with cutoffs) gene expressions of a cell, as a list of ordered pairs.  This will take a minute to run.\n",
    "\n",
    "Basically, this is taking a data frame with a few million entries, and putting into a vector representation for LSI."
   ]
  },
  {
   "cell_type": "code",
   "execution_count": 51,
   "metadata": {
    "collapsed": false
   },
   "outputs": [],
   "source": [
    "#  Get some coffee while this cell executes.\n",
    "genecorpus = [[(dictionary.token2id[gene], genedf[gene][cell]) \n",
    "               for gene in genes_relevant \n",
    "               if genedf[gene][cell] > 0] for cell in cells]"
   ]
  },
  {
   "cell_type": "code",
   "execution_count": 52,
   "metadata": {
    "collapsed": false,
    "scrolled": true
   },
   "outputs": [
    {
     "data": {
      "text/plain": [
       "[(3, 2.1089358418411659),\n",
       " (13, 5.6202125882114444),\n",
       " (15, 5.9632312143909658),\n",
       " (25, 5.7035583478750036),\n",
       " (36, 0.94312679431663637)]"
      ]
     },
     "execution_count": 52,
     "metadata": {},
     "output_type": "execute_result"
    }
   ],
   "source": [
    "genecorpus[0][:5] # The first five genes expressed by the cell P1902_1293.  \n",
    "# (a,e) stands for relevant gene number a, with log-expression level e."
   ]
  },
  {
   "cell_type": "markdown",
   "metadata": {},
   "source": [
    "Now that we've got a nice corpus of gene expression, we separate it into training and testing (validation) subsets."
   ]
  },
  {
   "cell_type": "code",
   "execution_count": 68,
   "metadata": {
    "collapsed": false
   },
   "outputs": [
    {
     "name": "stdout",
     "output_type": "stream",
     "text": [
      "Training on  264 cells.\n",
      "81 cells will be used for validation.\n"
     ]
    }
   ],
   "source": [
    "train_fraction = 0.75 # Put this proportion of the cells into the training set.  \n",
    "# The rest are used for validation.\n",
    "\n",
    "train_mask = np.random.choice([True, False], len(genecorpus), \n",
    "                              p=[train_fraction, 1 - train_fraction])\n",
    "test_mask = [not b for b in train_mask]\n",
    "\n",
    "# Separates the gene corpus into training and testing corpora.\n",
    "corpus_train = [genecorpus[j] for j in range(len(genecorpus)) if train_mask[j]]\n",
    "corpus_test = [genecorpus[j] for j in range(len(genecorpus)) if test_mask[j]]\n",
    "\n",
    "# For future reference.\n",
    "size_train = len(corpus_train)\n",
    "size_test = len(corpus_test)\n",
    "\n",
    "print \"Training on \",size_train,\"cells.\"\n",
    "print size_test,\"cells will be used for validation.\""
   ]
  },
  {
   "cell_type": "markdown",
   "metadata": {},
   "source": [
    "The following function is meant to predict the clonotype of a given cell.  It uses a not-yet-defined LSI model.  But we put the function here for later use, so that we can run and rerun what comes later without redefining the function."
   ]
  },
  {
   "cell_type": "code",
   "execution_count": 69,
   "metadata": {
    "collapsed": true
   },
   "outputs": [],
   "source": [
    "def predict_clonotype(i):\n",
    "    '''\n",
    "    Predicts the clonotype of cell #i from the gene corpus.\n",
    "    '''\n",
    "    Total_dict = {clone : 0 for clone in clones}\n",
    "    Count_dict = {clone : 0 for clone in clones}\n",
    "    AVE_dict = {clone : 0 for clone in clones}\n",
    "    t = 0\n",
    "    for j in range(len(cells)):\n",
    "        if train_mask[j]:\n",
    "            clonotype = df['clonality'][j]\n",
    "            Count_dict[clonotype] += 1\n",
    "            # Note lsi[genecorpus[i]] is the projection of genecorpus[i] \n",
    "            # via the previous LSI model.\n",
    "            # index gives the similarity.\n",
    "            Total_dict[clonotype] += index[lsi[genecorpus[i]]][t]\n",
    "            t += 1\n",
    "    for clone in clones:\n",
    "        AVE_dict[clone] = Total_dict[clone] / Count_dict[clone]\n",
    "    return max(AVE_dict.iterkeys(), key=(lambda key: AVE_dict[key]))"
   ]
  },
  {
   "cell_type": "markdown",
   "metadata": {},
   "source": [
    "To prep the training data, We carry out a TFIDF (term frequency–inverse document frequency) weighting on the training corpus.  Roughly speaking, this weights the expressed genes by their overall frequency (regardless of clonotype).  "
   ]
  },
  {
   "cell_type": "code",
   "execution_count": 70,
   "metadata": {
    "collapsed": false
   },
   "outputs": [],
   "source": [
    "tfidf = models.TfidfModel(corpus_train)\n",
    "weighted_corpus = tfidf[corpus_train]"
   ]
  },
  {
   "cell_type": "markdown",
   "metadata": {},
   "source": [
    "### Start here to experiment with model parameters."
   ]
  },
  {
   "cell_type": "markdown",
   "metadata": {},
   "source": [
    "LSI is used to reduce from 10000+ gene-expressions to a small number of \"hidden\" numerical properties (features) of each cell.  It's like PCA in some ways.  It's good to experiment with the number of features, to see what leads to the best predictive power.  There's some art to choosing hyperparameters like the number of features, and I don't have a good idea besides blind experimentation."
   ]
  },
  {
   "cell_type": "code",
   "execution_count": 75,
   "metadata": {
    "collapsed": true
   },
   "outputs": [],
   "source": [
    "num_features = 10 # 11 worked best in testing. \n",
    "# Use LSI to reduce from 10000+ gene expressions to this number of features."
   ]
  },
  {
   "cell_type": "code",
   "execution_count": 76,
   "metadata": {
    "collapsed": false,
    "scrolled": true
   },
   "outputs": [
    {
     "name": "stdout",
     "output_type": "stream",
     "text": [
      "Feature  0  is:  0.023*\"TRBV9\" + 0.022*\"TRAV12-2\" + 0.019*\"TRAV27\" + 0.019*\"FCGR3A\" + 0.019*\"KLRB1\" + 0.019*\"BPGM\" + 0.018*\"SYNE2\" + 0.018*\"GPN1\" + 0.018*\"CCT7\" + 0.018*\"PVRIG\"\n",
      "Feature  1  is:  -0.091*\"STMN1\" + -0.088*\"ZWINT\" + -0.081*\"UBE2C\" + -0.081*\"CTD-2116N17.1\" + -0.079*\"MKI67\" + -0.078*\"TK1\" + -0.078*\"CDKN3\" + -0.077*\"FEN1\" + -0.077*\"TOP2A\" + -0.074*\"CCNB2\"\n",
      "Feature  2  is:  0.153*\"TRBV28\" + 0.119*\"TRAV12-1\" + -0.106*\"TRAV5\" + 0.083*\"PATL2\" + 0.080*\"CX3CR1\" + 0.074*\"TRAV12-3\" + 0.073*\"SELL\" + 0.072*\"S1PR1\" + 0.070*\"TRBJ1-2\" + 0.068*\"TRAJ20\"\n",
      "Feature  3  is:  -0.153*\"TRDC\" + -0.146*\"TRDV3\" + -0.107*\"TRDJ3\" + -0.096*\"TRAJ47\" + -0.091*\"TRBV9\" + 0.088*\"TRBV27\" + -0.085*\"TRGV10\" + -0.080*\"TRAV27\" + -0.072*\"CD200R1\" + -0.062*\"TRGV1\"\n",
      "Feature  4  is:  0.112*\"TRAV5\" + -0.103*\"TRAV12-2\" + -0.081*\"TRBV4-2\" + 0.078*\"TRBV28\" + -0.076*\"TRGV11\" + -0.065*\"TRAV14DV4\" + -0.064*\"CCR2\" + -0.058*\"JAML\" + 0.057*\"CD40LG\" + -0.056*\"REG4\"\n",
      "Feature  5  is:  0.140*\"TRBV12-4\" + 0.126*\"TRAV9-2\" + -0.110*\"TRAV4\" + 0.104*\"TRAV27\" + -0.095*\"TRBV9\" + -0.091*\"TRAV5\" + 0.079*\"TRBV4-2\" + -0.073*\"TRGV11\" + -0.067*\"TRAV12-2\" + 0.064*\"FCGR3A\"\n",
      "Feature  6  is:  0.132*\"TRAV29DV5\" + -0.114*\"TRDC\" + -0.109*\"TRDV3\" + 0.101*\"TRBV6-1\" + 0.096*\"TRBV2\" + 0.091*\"TRAV25\" + -0.080*\"TRDJ3\" + -0.074*\"TRGV10\" + 0.073*\"TRAJ28\" + -0.069*\"TRBV27\"\n",
      "Feature  7  is:  0.130*\"TRBV2\" + 0.125*\"TRAV25\" + -0.100*\"TRBV12-4\" + -0.092*\"TRAV9-2\" + 0.084*\"TRAJ49\" + -0.058*\"TRAV4\" + -0.056*\"TRAV13-2\" + 0.056*\"CXCR4\" + 0.055*\"TRAJ33\" + -0.052*\"TRGV11\"\n",
      "Feature  8  is:  0.162*\"TRAV29DV5\" + 0.131*\"TRBV6-1\" + 0.111*\"TRAJ47\" + 0.091*\"TRAJ28\" + -0.071*\"TRBV2\" + 0.069*\"TRBJ2-6\" + -0.068*\"TRAV25\" + 0.060*\"LAIR2\" + 0.055*\"ENPP4\" + -0.050*\"TRAJ33\"\n",
      "Feature  9  is:  0.159*\"TRBV4-2\" + 0.127*\"TRAV17\" + -0.097*\"TRBV2\" + -0.092*\"TRAV25\" + 0.091*\"TRBJ1-1\" + 0.066*\"TRAJ20\" + 0.064*\"TRAV5\" + -0.063*\"TRAJ49\" + -0.062*\"TRBV12-4\" + -0.059*\"TRAJ33\"\n"
     ]
    }
   ],
   "source": [
    "# The LSI model will be distinguishing clonotypes by certain features.\n",
    "# These features are weighted combinations of gene expressions.\n",
    "# The features are described below.\n",
    "# This might take 10 seconds or so to run.\n",
    "\n",
    "lsi = models.lsimodel.LsiModel(corpus=weighted_corpus, id2word=dictionary, \n",
    "                               num_topics=num_features, \n",
    "                               onepass = False, power_iters=3, extra_samples=100)\n",
    "\n",
    "all_features = lsi.print_topics(num_features)\n",
    "for j in range(num_features):\n",
    "    print \"Feature \",j,\" is: \",all_features[j][1]"
   ]
  },
  {
   "cell_type": "markdown",
   "metadata": {},
   "source": [
    "It might be interesting to see which genes the LSI algorithm has picked out, among the 10000+ ones.  These genes occur in the features above, and they are chosen for their power to distinguish.  Note that clonotypes are not being used to generate the above features!\n",
    "\n",
    "Next, we produce an \"index\" to compare any gene-expression profile to a profile in the training set"
   ]
  },
  {
   "cell_type": "code",
   "execution_count": 77,
   "metadata": {
    "collapsed": false,
    "scrolled": true
   },
   "outputs": [
    {
     "name": "stdout",
     "output_type": "stream",
     "text": [
      "Similarity index with 264 documents in 0 shards (stored under /var/folders/c0/wm_vsqfx5d52904q2v3fz6bm0000gn/T/index)\n"
     ]
    }
   ],
   "source": [
    "index_tmpfile = get_tmpfile(\"index\")\n",
    "index = similarities.Similarity(index_tmpfile, lsi[weighted_corpus], num_features=num_features) # build the index\n",
    "print index"
   ]
  },
  {
   "cell_type": "markdown",
   "metadata": {},
   "source": [
    "Essentially, LSI gives us a way of measuring similarity between two gene-expression profiles.  In order to guess which clonotype a cell belongs to, we can average its similarity to all cells of clonotype A7, to all cells from A8, etc..  If a cell is, on average, more similar (in gene expression) to those of clonotype A7, we put it in that clonotype.  \n",
    "\n",
    "To see if this works, we use the test-code below.  It takes a minute or two to run."
   ]
  },
  {
   "cell_type": "code",
   "execution_count": 78,
   "metadata": {
    "collapsed": false
   },
   "outputs": [
    {
     "name": "stdout",
     "output_type": "stream",
     "text": [
      "81 cells placed into 9 clonotypes by genetic data.\n",
      "Accuracy of 70.3703703704 % achieved with  10 features in LSI reduction.\n"
     ]
    }
   ],
   "source": [
    "# Check twitter while this runs.\n",
    "\n",
    "S = 0\n",
    "count = 0\n",
    "for i in range(len(cells)):\n",
    "    if test_mask[i]:\n",
    "        count += 1\n",
    "        actual = df['clonality'][i]\n",
    "        pred = predict_clonotype(i)\n",
    "        if actual == pred:\n",
    "            S += 1\n",
    "srate = float(S*100) / count\n",
    "print size_test,'cells placed into',len(clones),'clonotypes by genetic data.'\n",
    "print 'Accuracy of',srate,'% achieved with',num_features,'features in LSI reduction.'"
   ]
  },
  {
   "cell_type": "markdown",
   "metadata": {},
   "source": [
    "Well, that's better than the accuracy of 11% one would expect by chance."
   ]
  },
  {
   "cell_type": "code",
   "execution_count": null,
   "metadata": {
    "collapsed": true
   },
   "outputs": [],
   "source": []
  }
 ],
 "metadata": {
  "kernelspec": {
   "display_name": "Python 2",
   "language": "python",
   "name": "python2"
  },
  "language_info": {
   "codemirror_mode": {
    "name": "ipython",
    "version": 2
   },
   "file_extension": ".py",
   "mimetype": "text/x-python",
   "name": "python",
   "nbconvert_exporter": "python",
   "pygments_lexer": "ipython2",
   "version": "2.7.13"
  }
 },
 "nbformat": 4,
 "nbformat_minor": 0
}
